{
 "cells": [
  {
   "cell_type": "markdown",
   "metadata": {},
   "source": [
    "### <b> Bibliotecas utilizadas para realizar a instalação: </b>\n",
    "\n",
    "* pip install pyaudio // conda install -c anaconda pyaudio <br>\n",
    "* pip install gtts <br>\n",
    "* pip install soundfile <br>\n",
    "* pip install sounddevice <br>\n",
    "* pip install SpeechRecognition <br>\n",
    "* pip install google.generativeai"
   ]
  },
  {
   "cell_type": "markdown",
   "metadata": {},
   "source": [
    "### <b> Passo a passo de cada etapa </b>"
   ]
  },
  {
   "cell_type": "code",
   "execution_count": 61,
   "metadata": {},
   "outputs": [],
   "source": [
    "import os\n",
    "import time\n",
    "import textwrap\n",
    "import soundfile as sf\n",
    "import sounddevice as sd\n",
    "import speech_recognition as sr\n",
    "import google.generativeai as genai \n",
    "\n",
    "from gtts import gTTS\n",
    "from playsound import playsound\n",
    "from IPython.display import display\n",
    "from IPython.display import Markdown\n",
    "from dotenv import load_dotenv\n",
    "\n",
    "load_dotenv()\n",
    "\n",
    "# Configurar para o texto ficar de forma mais organizada.\n",
    "def to_markdown(text):\n",
    "  text = text.replace('•', '  *')\n",
    "  return Markdown(textwrap.indent(text, '> ', predicate=lambda _: True))"
   ]
  },
  {
   "cell_type": "markdown",
   "metadata": {},
   "source": [
    "##### <b> Configurar a variável de ambiente criando um arquivo .env </b>\n",
    "\n",
    "* Verificar: https://ai.google.dev/gemini-api/docs/get-started/python"
   ]
  },
  {
   "cell_type": "code",
   "execution_count": 2,
   "metadata": {},
   "outputs": [],
   "source": [
    "genai.configure(api_key=os.getenv('GOOGLE_API_KEY'))"
   ]
  },
  {
   "cell_type": "markdown",
   "metadata": {},
   "source": [
    "##### <b> Configurar o modelo conforme a sua necessidade </b>"
   ]
  },
  {
   "cell_type": "code",
   "execution_count": 3,
   "metadata": {},
   "outputs": [],
   "source": [
    "generation_config = {\n",
    "  \"temperature\": 1,\n",
    "  \"top_p\": 0.95,\n",
    "  \"top_k\": 0\n",
    "}\n",
    "\n",
    "safety_settings = [\n",
    "    {\n",
    "        \"category\": \"HARM_CATEGORY_DANGEROUS\",\n",
    "        \"threshold\": \"BLOCK_NONE\",\n",
    "    },\n",
    "    {\n",
    "        \"category\": \"HARM_CATEGORY_HARASSMENT\",\n",
    "        \"threshold\": \"BLOCK_NONE\",\n",
    "    },\n",
    "    {\n",
    "        \"category\": \"HARM_CATEGORY_HATE_SPEECH\",\n",
    "        \"threshold\": \"BLOCK_NONE\",\n",
    "    },\n",
    "    {\n",
    "        \"category\": \"HARM_CATEGORY_SEXUALLY_EXPLICIT\",\n",
    "        \"threshold\": \"BLOCK_NONE\",\n",
    "    },\n",
    "    {\n",
    "        \"category\": \"HARM_CATEGORY_DANGEROUS_CONTENT\",\n",
    "        \"threshold\": \"BLOCK_NONE\",\n",
    "    },\n",
    "]\n",
    "\n",
    "model = genai.GenerativeModel(model_name='gemini-1.0-pro',\n",
    "                                  generation_config=generation_config,\n",
    "                                  safety_settings=safety_settings,)"
   ]
  },
  {
   "cell_type": "markdown",
   "metadata": {},
   "source": [
    "#### <b> Código para captar a fala do usuário no microfone. </b>\n",
    "\n",
    "*  Obs.: Ativar o microfone do computador"
   ]
  },
  {
   "cell_type": "code",
   "execution_count": null,
   "metadata": {},
   "outputs": [],
   "source": [
    "record = sr.Recognizer()\n",
    "microphone = sr.Microphone()\n",
    "\n",
    "with microphone as fonte_audio:\n",
    "    print(\"Fale o que gostaria...\")\n",
    "    audio = record.listen(fonte_audio)\n",
    "\n",
    "speech = record.recognize_google(audio, language=\"pt-BR\")\n",
    "print(\"O usuário disse:\", speech)"
   ]
  },
  {
   "cell_type": "markdown",
   "metadata": {},
   "source": [
    "##### Passar o texto salvo da gravação da fala do usuário para o modelo."
   ]
  },
  {
   "cell_type": "code",
   "execution_count": 5,
   "metadata": {},
   "outputs": [],
   "source": [
    "response = model.generate_content(speech)"
   ]
  },
  {
   "cell_type": "markdown",
   "metadata": {},
   "source": [
    "##### Utilizando o markdown dessa forma no Macbook para que o texto fique mais organizado ao usuário."
   ]
  },
  {
   "cell_type": "code",
   "execution_count": null,
   "metadata": {},
   "outputs": [],
   "source": [
    "for candidate in response.candidates:\n",
    "    response_speech = \" \".join(part.text.replace('**', '') for part in candidate.content.parts)\n",
    "    response_text_to_markdown = to_markdown(response_speech)\n",
    "    display(response_text_to_markdown)"
   ]
  },
  {
   "cell_type": "markdown",
   "metadata": {},
   "source": [
    "##### Transforma o texto em áudio. Salva no repositório e reproduz para o usuário."
   ]
  },
  {
   "cell_type": "code",
   "execution_count": 72,
   "metadata": {},
   "outputs": [],
   "source": [
    "text_to_audio = gTTS(response_speech, lang='pt-br')\n",
    "text_to_audio.save('/Users/pesati/Desktop/Imersao Alura/audio/speech.mp3')\n",
    "playsound('/Users/pesati/Desktop/Imersao Alura/audio/speech.mp3')"
   ]
  },
  {
   "cell_type": "markdown",
   "metadata": {},
   "source": [
    "# Chatbot com a IA do Google"
   ]
  },
  {
   "cell_type": "code",
   "execution_count": 101,
   "metadata": {},
   "outputs": [],
   "source": [
    "playsound('/Users/pesati/Desktop/Imersao Alura/audio/finish.mp3')\n",
    "wait_user = '/Users/pesati/Desktop/Imersao Alura/audio/wait_user.mp3'\n",
    "speech_user = '/Users/pesati/Desktop/Imersao Alura/audio/speech.mp3'\n",
    "url = '/Users/pesati/Desktop/Imersao Alura/audio/speech.mp3'\n",
    "\n",
    "record = sr.Recognizer()\n",
    "microphone = sr.Microphone()"
   ]
  },
  {
   "cell_type": "code",
   "execution_count": null,
   "metadata": {},
   "outputs": [],
   "source": [
    "chat = model.start_chat(history=[])\n",
    "\n",
    "while speech != \"encerrar\":\n",
    "    \n",
    "    with microphone as fonte_audio:\n",
    "        print(\"Fale o que gostaria...\")\n",
    "        playsound(wait_user)\n",
    "        audio = record.listen(fonte_audio)\n",
    "    \n",
    "    speech = record.recognize_google(audio, language=\"pt-BR\")\n",
    "    print(\"O usuário disse:\", speech + \"\\n\")\n",
    "    \n",
    "    response = chat.send_message(speech)\n",
    "    \n",
    "    if(speech == 'encerrar'):\n",
    "        print(\"Encerrando o chat!\")\n",
    "        break\n",
    "    \n",
    "    response_speech = response.candidates[0].content.parts[0].text\n",
    "    response_text_to_markdown = to_markdown(response_speech)\n",
    "    display(response_text_to_markdown)\n",
    "    print('-------------------------------------------')\n",
    "    \n",
    "    text_to_audio = gTTS(response_speech, lang='pt-br')\n",
    "    text_to_audio.save(url)\n",
    "    playsound(speech_user)\n",
    "    \n",
    "    chat.rewind()\n",
    "    \n",
    "    time.sleep(5)\n"
   ]
  }
 ],
 "metadata": {
  "kernelspec": {
   "display_name": "base",
   "language": "python",
   "name": "python3"
  },
  "language_info": {
   "codemirror_mode": {
    "name": "ipython",
    "version": 3
   },
   "file_extension": ".py",
   "mimetype": "text/x-python",
   "name": "python",
   "nbconvert_exporter": "python",
   "pygments_lexer": "ipython3",
   "version": "3.11.5"
  }
 },
 "nbformat": 4,
 "nbformat_minor": 2
}
